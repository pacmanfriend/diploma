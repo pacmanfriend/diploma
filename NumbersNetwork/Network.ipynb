{
 "cells": [
  {
   "cell_type": "code",
   "execution_count": null,
   "metadata": {
    "collapsed": true,
    "pycharm": {
     "is_executing": true
    }
   },
   "outputs": [],
   "source": [
    "from mnist import MNIST\n",
    "import matrix_operations\n",
    "\n",
    "mn_data = MNIST('files')\n",
    "\n",
    "images_training_data, labels_training_data = mn_data.load_training()\n",
    "images_testing_data, labels_testing_data = mn_data.load_testing()\n",
    "\n",
    "input_size = len(images_training_data[0])\n",
    "hidden_size = 16\n",
    "out_size = 10\n",
    "\n",
    "iterations_count = 100\n",
    "iteration = 0\n",
    "\n",
    "w0 = matrix_operations.generate_random_matrix(input_size, hidden_size)\n",
    "w1 = matrix_operations.generate_random_matrix(hidden_size, hidden_size)\n",
    "w2 = matrix_operations.generate_random_matrix(hidden_size, out_size)"
   ]
  },
  {
   "cell_type": "code",
   "execution_count": null,
   "outputs": [],
   "source": [
    "while iteration < iterations_count:\n",
    "    all_error = 0\n",
    "\n",
    "    for i in range(len(images_training_data)):\n",
    "        layer0 = images_training_data[i:i + 1]\n"
   ],
   "metadata": {
    "collapsed": false
   }
  }
 ],
 "metadata": {
  "kernelspec": {
   "display_name": "Python 3",
   "language": "python",
   "name": "python3"
  },
  "language_info": {
   "codemirror_mode": {
    "name": "ipython",
    "version": 2
   },
   "file_extension": ".py",
   "mimetype": "text/x-python",
   "name": "python",
   "nbconvert_exporter": "python",
   "pygments_lexer": "ipython2",
   "version": "2.7.6"
  }
 },
 "nbformat": 4,
 "nbformat_minor": 0
}
