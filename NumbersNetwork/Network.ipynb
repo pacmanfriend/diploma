{
 "cells": [
  {
   "cell_type": "code",
   "execution_count": 5,
   "outputs": [],
   "source": [
    "import numpy as np\n",
    "from mnist import MNIST"
   ],
   "metadata": {
    "collapsed": false
   }
  },
  {
   "cell_type": "code",
   "execution_count": 17,
   "outputs": [],
   "source": [
    "def create_output_data(data, row_size):\n",
    "    output = []\n",
    "\n",
    "    for d in data:\n",
    "        row = np.zeros(shape=row_size, dtype=float)\n",
    "\n",
    "        index = -1\n",
    "\n",
    "        if d > 0:\n",
    "            index = d - 1\n",
    "        else:\n",
    "            index = d\n",
    "\n",
    "        row[index] = 1.0\n",
    "\n",
    "        output.append(row)\n",
    "\n",
    "    return output"
   ],
   "metadata": {
    "collapsed": false
   }
  },
  {
   "cell_type": "code",
   "execution_count": 20,
   "metadata": {
    "collapsed": true
   },
   "outputs": [
    {
     "name": "stdout",
     "output_type": "stream",
     "text": [
      "60000\n"
     ]
    }
   ],
   "source": [
    "mn_data = MNIST('files')\n",
    "\n",
    "training_images, training_labels = mn_data.load_training()\n",
    "testing_images, testing_labels = mn_data.load_testing()\n",
    "\n",
    "alpha = 0.01\n",
    "input_size = len(training_images[0])\n",
    "hidden_size = 16\n",
    "out_size = 10\n",
    "\n",
    "iterations_count = 100\n",
    "iteration = 0\n",
    "\n",
    "labels1 = create_output_data(training_labels, out_size)\n",
    "labels2 = create_output_data(testing_labels, out_size)\n",
    "\n",
    "w0 = 2 * np.random.random((input_size, hidden_size)) - 1\n",
    "w1 = 2 * np.random.random((hidden_size, hidden_size)) - 1\n",
    "w2 = 2 * np.random.random((hidden_size, out_size)) - 1"
   ]
  },
  {
   "cell_type": "code",
   "execution_count": 3,
   "outputs": [],
   "source": [
    "def relu(x):\n",
    "    return (x > 0) * x\n",
    "\n",
    "\n",
    "def relu2deriv(output):\n",
    "    return output > 0"
   ],
   "metadata": {
    "collapsed": false
   }
  },
  {
   "cell_type": "code",
   "execution_count": null,
   "outputs": [],
   "source": [
    "while iteration < iterations_count:\n",
    "    l3_error = 0\n",
    "\n",
    "    for i in range(len(training_images)):\n",
    "        l0 = training_images[i:i + 1]\n",
    "        l1 = relu(np.dot(l0, w0))\n",
    "        l2 = relu(np.dot(l1, w1))\n",
    "        l3 = np.dot(l2, w2)"
   ],
   "metadata": {
    "collapsed": false,
    "pycharm": {
     "is_executing": true
    }
   }
  }
 ],
 "metadata": {
  "kernelspec": {
   "display_name": "Python 3",
   "language": "python",
   "name": "python3"
  },
  "language_info": {
   "codemirror_mode": {
    "name": "ipython",
    "version": 2
   },
   "file_extension": ".py",
   "mimetype": "text/x-python",
   "name": "python",
   "nbconvert_exporter": "python",
   "pygments_lexer": "ipython2",
   "version": "2.7.6"
  }
 },
 "nbformat": 4,
 "nbformat_minor": 0
}
