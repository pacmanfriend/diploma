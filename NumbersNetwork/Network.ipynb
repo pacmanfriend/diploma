{
 "cells": [
  {
   "cell_type": "code",
   "execution_count": null,
   "metadata": {
    "collapsed": true,
    "pycharm": {
     "is_executing": true
    }
   },
   "outputs": [],
   "source": [
    "import numpy as np\n",
    "from mnist import MNIST\n",
    "\n",
    "mn_data = MNIST('files')\n",
    "\n",
    "images_training_data, labels_training_data = mn_data.load_training()\n",
    "images_testing_data, labels_testing_data = mn_data.load_testing()\n",
    "\n",
    "training_images = np.array(images_training_data)\n",
    "training_labels = np.array(labels_training_data)\n",
    "\n",
    "alpha = 0.01\n",
    "input_size = len(images_training_data[0])\n",
    "hidden_size = 16\n",
    "out_size = 10\n",
    "\n",
    "iterations_count = 100\n",
    "iteration = 0\n",
    "\n",
    "w0 = 2 * np.random.random((input_size, hidden_size)) - 1\n",
    "w1 = 2 * np.random.random((hidden_size, hidden_size)) - 1\n",
    "w2 = 2 * np.random.random((hidden_size, out_size)) - 1"
   ]
  },
  {
   "cell_type": "code",
   "execution_count": null,
   "outputs": [],
   "source": [
    "def relu(x):\n",
    "    return (x > 0) * x\n",
    "\n",
    "\n",
    "def relu2deriv(output):\n",
    "    return output > 0"
   ],
   "metadata": {
    "collapsed": false
   }
  },
  {
   "cell_type": "code",
   "execution_count": null,
   "outputs": [],
   "source": [
    "while iteration < iterations_count:\n",
    "    l3_error = 0\n",
    "\n",
    "    for i in range(len(training_images)):\n",
    "        l0 = training_images[i:i + 1]\n",
    "        l1 = relu(np.dot(l0, w0))\n",
    "        l2 = relu(np.dot(l1, w1))\n",
    "        l3 = np.dot(l2, w2)"
   ],
   "metadata": {
    "collapsed": false,
    "pycharm": {
     "is_executing": true
    }
   }
  }
 ],
 "metadata": {
  "kernelspec": {
   "display_name": "Python 3",
   "language": "python",
   "name": "python3"
  },
  "language_info": {
   "codemirror_mode": {
    "name": "ipython",
    "version": 2
   },
   "file_extension": ".py",
   "mimetype": "text/x-python",
   "name": "python",
   "nbconvert_exporter": "python",
   "pygments_lexer": "ipython2",
   "version": "2.7.6"
  }
 },
 "nbformat": 4,
 "nbformat_minor": 0
}
