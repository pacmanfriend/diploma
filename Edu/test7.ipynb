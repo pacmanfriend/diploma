{
 "cells": [
  {
   "cell_type": "code",
   "execution_count": 32,
   "metadata": {
    "collapsed": true
   },
   "outputs": [],
   "source": [
    "def neural_network(inputs, weights):\n",
    "    prediction = 0\n",
    "\n",
    "    assert (len(inputs) == len(weights))\n",
    "\n",
    "    for i in range(len(inputs)):\n",
    "        prediction += inputs[i] * weights[i]\n",
    "\n",
    "    return prediction\n",
    "\n",
    "\n",
    "def ele_mul(scalar, vector):\n",
    "    output = [0, 0, 0]\n",
    "\n",
    "    assert (len(output) == len(vector))\n",
    "\n",
    "    for i in range(len(vector)):\n",
    "        output[i] = scalar * vector[i]\n",
    "\n",
    "    return output"
   ]
  },
  {
   "cell_type": "code",
   "execution_count": 33,
   "outputs": [],
   "source": [
    "toes = [8.5, 9.5, 9.9, 9.0]\n",
    "wlrec = [0.65, 0.8, 0.8, 0.9]\n",
    "nfans = [1.2, 1.3, 0.5, 1.0]\n",
    "inputs = [toes[0], wlrec[0], nfans[0]]\n",
    "\n",
    "win_or_lose_binary = [1, 1, 0, 1]\n",
    "true = win_or_lose_binary[0]\n",
    "\n",
    "alpha = 0.3\n",
    "\n",
    "weights = [0.1, 0.2, -0.1]"
   ],
   "metadata": {
    "collapsed": false
   }
  },
  {
   "cell_type": "code",
   "execution_count": 34,
   "outputs": [
    {
     "name": "stdout",
     "output_type": "stream",
     "text": [
      "[0.1, 0.2273, -0.04960000000000005]\n",
      "[0.1, 0.239346125, -0.02736100000000008]\n",
      "[0.1, 0.24466147765625, -0.017548041250000077]\n",
      "[0.1, 0.24700687701582028, -0.013218073201562604]\n",
      "[0.1, 0.2480417844832307, -0.011307474800189548]\n",
      "[0.1, 0.24849843740322555, -0.010464423255583678]\n",
      "[0.1, 0.24869993550417327, -0.010092426761526335]\n",
      "[0.1, 0.24878884654121644, -0.009928283308523543]\n",
      "[0.1, 0.24882807853631173, -0.009855855009886075]\n",
      "[0.1, 0.24884538965414754, -0.00982389602311224]\n"
     ]
    }
   ],
   "source": [
    "for _ in range(10):\n",
    "    pred = neural_network(inputs, weights)\n",
    "\n",
    "    error = (pred - true) ** 2\n",
    "    delta = pred - true\n",
    "\n",
    "    weight_deltas = ele_mul(delta, inputs)\n",
    "    weight_deltas[0] = 0\n",
    "\n",
    "    for i in range(len(weights)):\n",
    "        weights[i] -= alpha * weight_deltas[i]\n",
    "\n",
    "    print(weights)"
   ],
   "metadata": {
    "collapsed": false
   }
  },
  {
   "cell_type": "code",
   "execution_count": null,
   "outputs": [],
   "source": [],
   "metadata": {
    "collapsed": false
   }
  }
 ],
 "metadata": {
  "kernelspec": {
   "display_name": "Python 3",
   "language": "python",
   "name": "python3"
  },
  "language_info": {
   "codemirror_mode": {
    "name": "ipython",
    "version": 2
   },
   "file_extension": ".py",
   "mimetype": "text/x-python",
   "name": "python",
   "nbconvert_exporter": "python",
   "pygments_lexer": "ipython2",
   "version": "2.7.6"
  }
 },
 "nbformat": 4,
 "nbformat_minor": 0
}
