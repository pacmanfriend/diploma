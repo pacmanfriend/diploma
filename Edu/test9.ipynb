{
 "cells": [
  {
   "cell_type": "markdown",
   "source": [
    "Обучение методом градиентного спуска с несколькими входами и выходами"
   ],
   "metadata": {
    "collapsed": false
   }
  },
  {
   "cell_type": "code",
   "execution_count": 7,
   "outputs": [],
   "source": [
    "def w_sum(vect1, vect2):\n",
    "    assert (len(vect1) == len(vect2))\n",
    "\n",
    "    output = 0\n",
    "\n",
    "    for v1, v2 in zip(vect1, vect2):\n",
    "        output += v1 * v2\n",
    "\n",
    "    return output"
   ],
   "metadata": {
    "collapsed": false
   }
  },
  {
   "cell_type": "code",
   "execution_count": 8,
   "outputs": [],
   "source": [
    "def vect_mat_mul(vector, matrix):\n",
    "    assert (len(vector) == len(matrix))\n",
    "\n",
    "    output = [0, 0, 0]\n",
    "\n",
    "    for i in range(len(vector)):\n",
    "        output[i] = w_sum(vector, matrix[i])\n",
    "\n",
    "    return output"
   ],
   "metadata": {
    "collapsed": false
   }
  },
  {
   "cell_type": "code",
   "execution_count": 9,
   "outputs": [],
   "source": [
    "def zeros_matrix(a, b):\n",
    "    matrix = [[0 for col in range(b)] for row in range(a)]\n",
    "\n",
    "    return matrix"
   ],
   "metadata": {
    "collapsed": false
   }
  },
  {
   "cell_type": "code",
   "execution_count": 10,
   "outputs": [],
   "source": [
    "def outer_prod(vect_a, vect_b):\n",
    "    out = zeros_matrix(len(vect_a), len(vect_b))\n",
    "\n",
    "    for i in range(len(vect_a)):\n",
    "        for j in range(len(vect_b)):\n",
    "            out[i][j] = vect_a[i] * vect_b[j]\n",
    "\n",
    "    return out"
   ],
   "metadata": {
    "collapsed": false
   }
  },
  {
   "cell_type": "code",
   "execution_count": 11,
   "outputs": [],
   "source": [
    "def neural_network(input, weights):\n",
    "    prediction = vect_mat_mul(input, weights)\n",
    "\n",
    "    return prediction"
   ],
   "metadata": {
    "collapsed": false
   }
  },
  {
   "cell_type": "code",
   "execution_count": 12,
   "outputs": [
    {
     "name": "stdout",
     "output_type": "stream",
     "text": [
      "[[0.061325, 0.1017, -0.373525], [0.0970425, 0.20013, -0.005622500000000002], [-0.0054600000000000004, 1.30024, 0.08962]]\n",
      "[[3.8675000000000006, -0.1699999999999992, 7.352500000000001], [0.29575000000000007, -0.01299999999999994, 0.5622500000000001], [0.546, -0.023999999999999886, 1.038]]\n"
     ]
    }
   ],
   "source": [
    "weights = [\n",
    "    [0.1, 0.1, -0.3],\n",
    "    [0.1, 0.2, 0.0],\n",
    "    [0.0, 1.3, 0.1]\n",
    "]\n",
    "\n",
    "toes = [8.5, 9.5, 9.9, 9.0]\n",
    "wlrec = [0.65, 0.8, 0.8, 0.9]\n",
    "nfans = [1.2, 1.3, 0.5, 1.0]\n",
    "\n",
    "hurt = [0.1, 0.0, 0.0, 0.1]\n",
    "win = [1, 1, 0, 1]\n",
    "sad = [0.1, 0.0, 0.1, 0.2]\n",
    "\n",
    "input = [toes[0], wlrec[0], nfans[0]]\n",
    "true = [hurt[0], win[0], sad[0]]\n",
    "\n",
    "pred = neural_network(input, weights)\n",
    "\n",
    "error = [0, 0, 0]\n",
    "delta = [0, 0, 0]\n",
    "\n",
    "for i in range(len(true)):\n",
    "    error[i] = (pred[i] - true[i]) ** 2\n",
    "    delta[i] = pred[i] - true[i]\n",
    "\n",
    "weight_deltas = outer_prod(input, delta)\n",
    "\n",
    "alpha = 0.01\n",
    "\n",
    "for i in range(len(weights)):\n",
    "    for j in range(len(weights[i])):\n",
    "        weights[i][j] -= (weight_deltas[i][j] * alpha)\n",
    "\n",
    "print(weights)\n",
    "print(weight_deltas)"
   ],
   "metadata": {
    "collapsed": false
   }
  }
 ],
 "metadata": {
  "kernelspec": {
   "display_name": "Python 3",
   "language": "python",
   "name": "python3"
  },
  "language_info": {
   "codemirror_mode": {
    "name": "ipython",
    "version": 2
   },
   "file_extension": ".py",
   "mimetype": "text/x-python",
   "name": "python",
   "nbconvert_exporter": "python",
   "pygments_lexer": "ipython2",
   "version": "2.7.6"
  }
 },
 "nbformat": 4,
 "nbformat_minor": 0
}
